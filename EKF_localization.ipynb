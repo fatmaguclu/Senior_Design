{
  "nbformat": 4,
  "nbformat_minor": 0,
  "metadata": {
    "colab": {
      "name": "EKF_localization.ipynb",
      "provenance": [],
      "collapsed_sections": []
    },
    "kernelspec": {
      "name": "python3",
      "display_name": "Python 3"
    }
  },
  "cells": [
    {
      "cell_type": "code",
      "metadata": {
        "id": "S5TTTuvgMW0s",
        "colab": {
          "base_uri": "https://localhost:8080/"
        },
        "outputId": "e63383e3-780f-48f2-8bbd-969613ef38fb"
      },
      "source": [
        "import numpy as np\r\n",
        "from random import randrange, randint, uniform, random \r\n",
        "import math\r\n",
        "\r\n",
        "# initializations\r\n",
        "dt = 0.1\r\n",
        "T = 10\r\n",
        "X_anchor = -2\r\n",
        "Y_anchor = -2\r\n",
        "\r\n",
        "# initializations\r\n",
        "X = np.zeros((2,int(T/dt)))\r\n",
        "Y = np.zeros((3,int(T/dt)))\r\n",
        "R = np.zeros((2,2*int(T/dt))) # 2x2\r\n",
        "Q = np.zeros((3,3*int(T/dt))) # 3x3\r\n",
        "Vel = np.zeros((2,int(T/dt)))\r\n",
        "nu = np.zeros((2,int(T/dt)))\r\n",
        "nup = np.zeros((2,int(T/dt)))\r\n",
        "Gt = [[1, 0], [0, 1]]\r\n",
        "g = np.zeros((2,int(T/dt)))\r\n",
        "h = np.zeros((3,int(T/dt)))\r\n",
        "hy = np.zeros((3,int(T/dt)))\r\n",
        "Ht = np.zeros((3,2))\r\n",
        "Sp = np.zeros((2,2*int(T/dt)))\r\n",
        "S = np.zeros((2,2*int(T/dt)))\r\n",
        "K = np.zeros((2,3*int(T/dt)))\r\n",
        "# Drone start position\r\n",
        "# X[:,[0]] = [[x],[y]]\r\n",
        "\r\n",
        "for t in range(1,T+1):\r\n",
        "  # Control inputs\r\n",
        "  Vel[0,[t]] = -5+random()*10 \r\n",
        "  Vel[1,[t]] = -5+random()*10\r\n",
        "  # Motion Model Update \r\n",
        "  R[0,[2*t-1]] = random()*0.04\r\n",
        "  R[1,[2*t]] = random()*0.04\r\n",
        "  nu[:,[t]] = X[0,[t-1]] + Vel[:,[t]]*dt\r\n",
        "  X[0,[t]] = nu[0,[t-1]] + R[0,[2*t-1]] \r\n",
        "  X[1,[t]] = nu[0,[t-1]] + R[1,[2*t]] \r\n",
        "  # Measurement Model\r\n",
        "  Q[:,[3*t-1, 3*t, 3*t+1]] = random()*0.04\r\n",
        "  Y[0,[t]] = X[0,[t]] + Q[0,[3*t-1]] \r\n",
        "  Y[1,[t]] = X[1,[t]] + Q[1,[3*t]] \r\n",
        "  Y[2,[t]] = math.sqrt(math.pow((X[0,[t]]-X_anchor),2)+math.pow((X[1,[t]]-Y_anchor),2)) + Q[2,[3*t+1]]\r\n",
        "  \r\n",
        "  # Linearized Motion Model\r\n",
        "  g[:,[t]] = nu[:,[t]] + np.matmul(Gt, X[:,[t-1]]-nu[:,[t-1]])\r\n",
        "  \r\n",
        "  # Linearized Measurement Model\r\n",
        "  Ht = [[0, 1], [1, 0], [float((X[0,[t]]-X_anchor)/math.sqrt(pow(X[0,[t]]-X_anchor,2)+pow(X[1,[t]]-Y_anchor,2))), float((X[1,[t]]-Y_anchor)/math.sqrt(pow(X[0,[t]]-X_anchor,2)+pow(X[1,[t]]-Y_anchor,2)))]]\r\n",
        "  hy[0,[t]] = nup[0,[t]]\r\n",
        "  hy[1,[t]] = nup[1,[t]]\r\n",
        "  hy[2,[t]] = math.sqrt(math.pow((nup[0,[t]]-X_anchor),2)+math.pow((nup[1,[t]]-Y_anchor),2))\r\n",
        "  h[:,[t]] = hy[:,[t]] + np.matmul(Ht, X[:,[t]]-nu[:,[t]])\r\n",
        "  # print(Ht[2][1]*2) \r\n",
        "  # Prediction Update\r\n",
        "  nup[:,[t]] = np.matmul(Gt, nu[:,[t]])\r\n",
        "  Sp[:,[2*t-1,2*t]] = np.matmul(Gt,np.matmul(S[:,[2*t-1,2*t]], np.transpose(Gt)))+ R[:,[2*t-1,2*t]] \r\n",
        "  # Measurement Update\r\n",
        "  K[:,[3*t-1,3*t,3*t+1]] = np.matmul(np.matmul(Sp[:,[2*t-1,2*t]], np.transpose(Ht)), np.linalg.inv(np.matmul(Ht, np.matmul(Sp[:,[2*t-1,2*t]], np.transpose(Ht))) + Q[:,[3*t-1, 3*t, 3*t+1]]))\r\n",
        "  nu[:,[t]] = nup[:,[t]] + np.matmul(K[:,[3*t-1,3*t,3*t+1]], Y[:,[t]]-h[:,[t]] )\r\n",
        "  S[:,[2*t-1,2*t]] = np.matmul((np.identity(2) - np.matmul(K[:,[3*t-1,3*t,3*t+1]], Ht)),Sp[:,[2*t-1,2*t]])\r\n",
        "\r\n",
        "\r\n",
        "print(S[:,[2*5-1,2*5]])\r\n",
        "#print(np.shape(S))\r\n",
        "\r\n",
        "  \r\n",
        "\r\n",
        "\r\n"
      ],
      "execution_count": null,
      "outputs": [
        {
          "output_type": "stream",
          "text": [
            "[[1, 0], [0, 1]]\n",
            "(2, 1)\n",
            "[[ 2.97348647e-17  5.47040844e-18]\n",
            " [-6.06624736e-17 -6.72919033e-17]] yeeyyy\n"
          ],
          "name": "stdout"
        }
      ]
    },
    {
      "cell_type": "code",
      "metadata": {
        "id": "wt_XOQDqPWML"
      },
      "source": [
        ""
      ],
      "execution_count": null,
      "outputs": []
    },
    {
      "cell_type": "code",
      "metadata": {
        "id": "nESit8bKPWQK"
      },
      "source": [
        ""
      ],
      "execution_count": null,
      "outputs": []
    },
    {
      "cell_type": "code",
      "metadata": {
        "id": "layGl6YpOieE"
      },
      "source": [
        ""
      ],
      "execution_count": null,
      "outputs": []
    }
  ]
}